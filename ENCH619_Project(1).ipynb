{
 "cells": [
  {
   "cell_type": "code",
   "execution_count": 8,
   "metadata": {},
   "outputs": [],
   "source": [
    "import numpy as np\n",
    "import matplotlib.pyplot as plt\n",
    "import matplotlib.markers\n",
    "import pandas as pd\n",
    "from sklearn import datasets, linear_model, neighbors\n",
    "from sklearn.metrics import mean_squared_error, r2_score, explained_variance_score\n",
    "from sklearn.linear_model import LinearRegression\n",
    "from sklearn.neighbors import NearestNeighbors\n",
    "from sklearn.neighbors import KNeighborsClassifier\n",
    "from sklearn.model_selection import train_test_split\n",
    "from sklearn.model_selection import GridSearchCV\n",
    "from sklearn.metrics import classification_report\n",
    "from sklearn.svm import SVC\n",
    "import time\n",
    "from sklearn import tree\n",
    "from sklearn.tree import DecisionTreeClassifier\n",
    "from sklearn import datasets\n",
    "from IPython.display import Image\n",
    "from sklearn.cluster import KMeans\n",
    "from sklearn import metrics\n",
    "from sklearn.cluster import MeanShift, estimate_bandwidth\n",
    "from sklearn.cluster import DBSCAN\n",
    "from sklearn.preprocessing import scale\n",
    "from mpl_toolkits.mplot3d import Axes3D\n",
    "\n",
    "from collections import Counter\n",
    "\n",
    "import graphviz\n",
    "import pydotplus\n",
    "import openpyxl \n",
    "import matplotlib.pyplot as plt"
   ]
  },
  {
   "cell_type": "code",
   "execution_count": 9,
   "metadata": {},
   "outputs": [
    {
     "data": {
      "text/plain": [
       "['Access Western Blend_Crude Monitor',\n",
       " 'Alaskan North Slope_Exxon',\n",
       " 'Albian Heavy Synthetic_Crude Monitor_New',\n",
       " 'Albian Heavy Synthetic_Crude Monitor_Old',\n",
       " 'Albian Residual Blend_Crude Monitor',\n",
       " 'Algerian Condensate_BP',\n",
       " 'Angola Cabinda_Stratiev',\n",
       " 'Angola Girassol_Exxon',\n",
       " 'Angola Girassol_Statoil',\n",
       " 'Angola Kuito_Chevron',\n",
       " 'Arab Heavy_Stratiev',\n",
       " 'Arab Light_Stratiev',\n",
       " 'Arab Medium_Stratiev',\n",
       " 'Azeri Light_Chevron',\n",
       " 'Azeri light_Exxon ',\n",
       " 'Azeri Light_Statoil',\n",
       " 'Bakken_PNAS Laurenzi et al Bakken LCA',\n",
       " 'Bakken_Various Sources',\n",
       " 'Basrah Heavy_O&G',\n",
       " 'Basrah Medium_COA',\n",
       " 'Belridge_Knovel',\n",
       " 'Bonny Light_Chevron',\n",
       " 'Borealis Heavy Blend_Crude Monitor',\n",
       " 'Bow River North_Crude Monitor_New',\n",
       " 'Bow River North_Crude Monitor_Old',\n",
       " 'Bow River South_Crude Monitor',\n",
       " 'Brazil Frade_Chevron',\n",
       " 'Brazil Lula_BG Group',\n",
       " 'Brazil Polvo_BP',\n",
       " 'Brent_BP',\n",
       " 'Brent_Chevron',\n",
       " 'Brent_Exxon',\n",
       " 'Burgan (Wafra)_O&G',\n",
       " 'Canada Hibernia_Chevron',\n",
       " 'Canada Hibernia_Exxon',\n",
       " 'Canada Hibernia_Statoil ',\n",
       " 'China Bozhong_Chevron',\n",
       " 'Christina Dilbit Blend_Crude Monitor',\n",
       " 'Christina Lake_Crude Monitor',\n",
       " 'CNRL Light Sweet Synthetic_Crude Monitor',\n",
       " 'Cold Lake_Crude Monitor_New',\n",
       " 'Cold Lake_Crude Monitor_Old',\n",
       " 'Colombia Cano Limon_Stratiev',\n",
       " 'Congo Emeraude_Stratiev',\n",
       " 'Cossack_Chevron',\n",
       " 'Cusiana_COA',\n",
       " 'Dukhan_Qatar_COA',\n",
       " 'Eagle Ford Ultralight_Platts',\n",
       " 'Eagle Ford_PNAS Laurenzi et al Bakken LCA',\n",
       " 'East Texas Sweet_COA',\n",
       " 'Ecuador Oriente_Stratiev',\n",
       " 'Ekofisk_BP',\n",
       " 'Ekofisk_Chevron ',\n",
       " 'Ekofisk_Statoil',\n",
       " 'Fateh_COA',\n",
       " 'Forties Blend_BP',\n",
       " 'Forties_Chevron ',\n",
       " 'Forties_Statoil ',\n",
       " 'Fosterton_Crude Monitor ',\n",
       " 'Hamaca Venezuela_Knovel',\n",
       " 'High Sour Edmonton_Crude Monitor',\n",
       " 'Husky Synthetic Blend_Crude Monitor_New',\n",
       " 'Husky Synthetic Blend_Crude Monitor_Old',\n",
       " 'India Bombay_COA',\n",
       " 'Indonesia Duri_Chevron',\n",
       " 'Indonesia Tangguh_BP',\n",
       " 'Iran Ardeshir_COA',\n",
       " 'Iranian Heavy_COA',\n",
       " 'Iraq Basra_BP',\n",
       " 'Isthmus_Stratiev',\n",
       " 'Kearl Lake_Crude Monitor',\n",
       " 'Kirkuk_O&G',\n",
       " 'Kuwait Eocene_Chevron',\n",
       " 'Kuwait Export_Stratiev',\n",
       " 'Kuwait Ratawi_Chevron',\n",
       " 'Libya Es Sider_COA',\n",
       " 'Light Sour Blend_Crude Monitor_New',\n",
       " 'Light Sour Blend_Crude Monitor_Old',\n",
       " 'Lloyd Blend_Crude Monitor_New',\n",
       " 'Lloyd Blend_Crude Monitor_Old',\n",
       " 'Lloyd Kerrobert_Crude Monitor_New',\n",
       " 'Lloyd Kerrobert_Crude Monitor_New',\n",
       " 'Long Lake Light Synthetic_Crude Monitor',\n",
       " 'Louisiana light sweet_Stratiev',\n",
       " 'Margham Light_Ceric Emir',\n",
       " 'Marine Qatar_O&G',\n",
       " 'Mars USA-Gulf of Mexico_BP',\n",
       " 'MAYA_Stratiev',\n",
       " 'Medium Sour Blend_Crude Monitor',\n",
       " 'Merey_O&G',\n",
       " 'Midale_Crude Monitor',\n",
       " 'Midway-Sunset_Knovel',\n",
       " 'Mixed Sweet Blend_Crude Monitor',\n",
       " 'Nanhai Light_Chevron',\n",
       " 'Nigera Bonga_Exxon',\n",
       " 'Nigera Erha_Exxon',\n",
       " 'Nigera Quaib_Exxon',\n",
       " 'Nigeria Agbami_Chevron',\n",
       " 'Nigeria Agbami_Statoil',\n",
       " 'Nigeria Escravos_Chevron',\n",
       " 'Nigeria Pennington_Chevron',\n",
       " 'North Sea Dansk Blend_Statoil',\n",
       " 'Norway North Sea Skarv_BP',\n",
       " 'Norway Oseberg_Statoil',\n",
       " 'Olmeca_COA',\n",
       " 'Premium Albian Synthetic_Crude Monitor',\n",
       " 'Premium Conventional Heavy_Crude Monitor',\n",
       " 'Premium Synthetic_Crude Monitor',\n",
       " 'Qin Huang Dao_Chevron',\n",
       " 'Russia Sokol_Exxon',\n",
       " 'Russian Export Blend_Stratiev',\n",
       " 'Seal Heavy_Crude Monitor_New ',\n",
       " 'Seal Heavy_Crude Monitor_New ',\n",
       " 'Shell Synthetic Light_Crude Monitor',\n",
       " 'Siberian Light_COA',\n",
       " 'Smiley Coleville_Crude Monitor_New',\n",
       " 'Smiley-Coleville_Crude Monitor_Old',\n",
       " 'Snohvit Condensate_Statoil',\n",
       " 'Sumatran Light (Minas)_Chevron',\n",
       " 'Suncor Synthetic A_Crude Monitor_New',\n",
       " 'Suncor Synthetic A_Crude Monitor_Old',\n",
       " 'Suncor Synthetic H_Crude Monitor_New',\n",
       " 'Suncor Synthetic H_Crude Monitor_Old',\n",
       " 'Synbit Blend_Crude Monitor_New',\n",
       " 'Synbit Blend_Crude Monitor_Old',\n",
       " 'Syncrude Sweet Premium_Crude Monitor_New',\n",
       " 'Syncrude Sweet Premium_Crude Monitor_Old',\n",
       " 'Syncrude Synthetic_Crude Monitor',\n",
       " 'Synthetic Sweet Blend_Crude Monitor',\n",
       " 'Tengiz_Chevron',\n",
       " 'Thunderhorse_BP ',\n",
       " 'Thunderhorse_Exxon',\n",
       " 'UAE DAS Blend_BP',\n",
       " 'UAE Murban_BP',\n",
       " 'Venezuela Leona_COA',\n",
       " 'Venezuela Tia Juana_Stratiev',\n",
       " 'Wabasca Heavy_Crude Monitor_New',\n",
       " 'Wabasca Heavy_Crude Monitor_Old',\n",
       " 'West texas intermediate_Stratiev',\n",
       " 'West texas sour_Stratiev',\n",
       " 'Western Canadian Blend_Crude Monitor',\n",
       " 'Western Canadian Select_Crude Monitor',\n",
       " 'Wilmington CA_Knovel',\n",
       " 'Wyoming Sweet_COA']"
      ]
     },
     "execution_count": 9,
     "metadata": {},
     "output_type": "execute_result"
    }
   ],
   "source": [
    "path=\"C:\\Project_619\\PRELIM v1.3.xlsm\"\n",
    "\n",
    "wb= openpyxl.load_workbook('PRELIM v1.3.xlsm') \n",
    "  \n",
    "# Get workbook active sheet object \n",
    "sheet= wb['Assay Inventory']\n",
    "\n",
    "Properties= ['Sulfur','Nitrogen','API','Density','Hydrogen','MCR','Characterization Factor', 'Tb(50%) weight basis']\n",
    "\n",
    "Location_dictionary = dict()\n",
    "\n",
    "Location_dictionary['crude_name'] = []\n",
    "\n",
    "for i in range (25,2185,15):\n",
    "    cell= sheet.cell(row = i, column = 3) \n",
    "    Location_dictionary['crude_name'].append(cell.value)\n",
    "\n",
    "# print(Location_dictionary)\n",
    "Location_dictionary['crude_name']"
   ]
  },
  {
   "cell_type": "code",
   "execution_count": 10,
   "metadata": {},
   "outputs": [
    {
     "data": {
      "text/plain": [
       "Counter({'Canada': 53,\n",
       "         'USA': 15,\n",
       "         'Alegria': 1,\n",
       "         'Angola': 4,\n",
       "         'Saudi Arabia': 3,\n",
       "         'Azerbaijan': 3,\n",
       "         'Iraq': 4,\n",
       "         'Nigeria': 8,\n",
       "         'Brazil': 3,\n",
       "         'UK': 6,\n",
       "         'Kuwait': 4,\n",
       "         'China': 3,\n",
       "         'Colombia': 2,\n",
       "         'Congo': 1,\n",
       "         'Australia': 1,\n",
       "         'Qatar': 2,\n",
       "         'Ecuador': 1,\n",
       "         'Norway': 6,\n",
       "         'UAE': 4,\n",
       "         'Venezuela': 4,\n",
       "         'India': 1,\n",
       "         'Indonesia': 3,\n",
       "         'Iran': 2,\n",
       "         'Mexico': 3,\n",
       "         'Libya': 1,\n",
       "         'Louisiana': 1,\n",
       "         'Denmark': 1,\n",
       "         'Russia': 3,\n",
       "         'Kazakhstan': 1})"
      ]
     },
     "execution_count": 10,
     "metadata": {},
     "output_type": "execute_result"
    }
   ],
   "source": [
    "wbo=pd.read_csv('Crude oils_updated.csv')  \n",
    "# Ge​wbo=pd.read_csvt workbook active sheet object \n",
    "\n",
    "country=wbo.iloc[:,3]\n",
    "len(country)\n",
    "\n",
    "c = Counter(country)\n",
    "c"
   ]
  },
  {
   "cell_type": "code",
   "execution_count": 11,
   "metadata": {},
   "outputs": [
    {
     "data": {
      "text/plain": [
       "144"
      ]
     },
     "execution_count": 11,
     "metadata": {},
     "output_type": "execute_result"
    }
   ],
   "source": [
    "len(Location_dictionary['crude_name'])"
   ]
  },
  {
   "cell_type": "code",
   "execution_count": 12,
   "metadata": {},
   "outputs": [
    {
     "data": {
      "text/plain": [
       "'Access Western Blend_Crude Monitor'"
      ]
     },
     "execution_count": 12,
     "metadata": {},
     "output_type": "execute_result"
    }
   ],
   "source": [
    "Location_dictionary['crude_name'][0]"
   ]
  },
  {
   "cell_type": "code",
   "execution_count": 13,
   "metadata": {},
   "outputs": [
    {
     "name": "stdout",
     "output_type": "stream",
     "text": [
      "[4.19645003e+00 8.46315860e-01 2.58481761e+00 2.24227432e+00\n",
      " 3.24210978e+00 5.88533578e-04 3.13651330e-01 3.12777273e-01\n",
      " 3.52958165e-01 8.71157225e-01 2.32817701e+00 1.62805609e+00\n",
      " 2.40164450e+00 1.48091217e-01 1.93083878e-01 1.50482547e-01\n",
      " 9.70000000e-02 7.28706151e-02 8.13338624e+00 2.67509229e+00\n",
      " 2.47007298e-01 1.69800000e-01 4.36334774e+00 3.11786788e+00\n",
      " 2.69602215e+00 2.69329209e+00 8.00391225e-01 2.67902593e-01\n",
      " 9.57060173e-01 3.36059135e-01 3.73902018e-01 5.61287040e-01\n",
      " 3.43391348e+00 5.61733626e-01 6.19730984e-01 4.77897028e-01\n",
      " 2.82134007e-01 4.02448963e+00 3.52032490e+00 5.23975010e-02\n",
      " 4.01078133e+00 3.88522089e+00 6.41170872e-01 7.74717639e-01\n",
      " 5.90152967e-02 9.74021341e-01 1.63861204e+00 1.06827727e-01\n",
      " 2.40000000e-01 2.89286448e-01 9.49088287e-01 2.07880805e-01\n",
      " 3.25222894e-01 2.42978962e-01 1.93079543e+00 7.47188191e-01\n",
      " 8.49166504e-01 8.48801084e-01 3.10466366e+00 1.63046707e+00\n",
      " 1.34798709e+00 5.89544360e-02 9.36766838e-02 1.45007658e-01\n",
      " 2.38557678e-01 1.43761031e-01 2.54744873e+00 1.46999954e+00\n",
      " 2.65868146e+00 1.33166929e+00 4.16791499e+00 1.97373797e+00\n",
      " 5.26366193e+00 2.32144205e+00 5.01704906e+00 1.93060772e-01\n",
      " 9.44321338e-01 1.06600000e+00 3.50984511e+00 3.68909240e+00\n",
      " 3.21731028e+00 3.21731028e+00 4.35713297e-02 3.03696033e-01\n",
      " 4.00000000e-02 2.09980017e+00 1.55547260e+00 3.27464765e+00\n",
      " 1.61767863e+00 2.12298901e+00 2.34272187e+00 1.18550000e+00\n",
      " 3.40075893e-01 4.71762448e-02 1.84951730e-01 1.78275352e-01\n",
      " 1.16144943e-01 8.16720240e-02 7.27675133e-02 2.35383021e-01\n",
      " 1.46370090e-01 3.21494635e-01 3.71328902e-01 2.03947850e-01\n",
      " 8.31709891e-01 7.07345802e-03 2.91299561e+00 5.40258900e-02\n",
      " 2.86620493e-01 3.72809699e-01 1.33173117e+00 4.62654382e+00\n",
      " 4.62654382e+00 1.13707711e-01 4.73468397e-01 2.99416849e+00\n",
      " 2.98766016e+00 1.64556992e-02 8.76563463e-02 1.44987262e-01\n",
      " 2.11322737e-01 2.95580254e+00 3.06257120e+00 2.98147036e+00\n",
      " 2.98429636e+00 1.11322026e-01 2.02367399e-01 1.67054359e-01\n",
      " 1.03580857e-01 7.05955021e-01 6.72700405e-01 7.57965298e-01\n",
      " 1.19279061e+00 8.78084593e-01 1.28900782e+00 2.49217735e+00\n",
      " 4.01109338e+00 4.00227287e+00 3.08339455e-01 1.31331005e+00\n",
      " 3.29811933e+00 3.37980903e+00 1.56000000e+00 3.04716405e-01]\n"
     ]
    },
    {
     "data": {
      "text/plain": [
       "144"
      ]
     },
     "execution_count": 13,
     "metadata": {},
     "output_type": "execute_result"
    }
   ],
   "source": [
    "Location_dictionary['Sulfur']=[]\n",
    "\n",
    "for j in range(31,2185,15):\n",
    "      cell= sheet.cell(row = j, column = 5)\n",
    "      Location_dictionary['Sulfur'].append(cell.value)\n",
    "\n",
    "sul=Location_dictionary['Sulfur']\n",
    "print(np.transpose(Location_dictionary['Sulfur']))\n",
    "len(Location_dictionary['Sulfur'])"
   ]
  },
  {
   "cell_type": "code",
   "execution_count": 14,
   "metadata": {},
   "outputs": [
    {
     "name": "stdout",
     "output_type": "stream",
     "text": [
      "[4.06208136e+03 9.08136080e+02 4.50937588e+03 2.58132987e+03\n",
      " 2.23926255e+03 2.32470190e+00 1.57082293e+03 1.40911982e+03\n",
      " 1.37828226e+03 5.00317053e+03 1.84954244e+03 1.40247320e+03\n",
      " 1.65269673e+03 9.09646455e+02 1.04103756e+03 9.69178292e+02\n",
      " 4.45000000e+02 0.00000000e+00 3.59009440e+01 1.98197284e+03\n",
      " 8.38292467e+03 1.04000000e+03 4.15517383e+03 4.18125976e+03\n",
      " 1.59610723e+03 1.63649289e+03 5.90567004e+03 1.11963024e+03\n",
      " 3.13473974e+03 5.18555290e+02 7.56865414e+02 1.32897342e+03\n",
      " 1.71955239e+02 1.05026215e+03 1.63780878e+03 8.64460404e+02\n",
      " 4.25027426e+03 3.15612118e+03 2.33936577e+03 1.73902627e+02\n",
      " 4.00030373e+03 2.20095192e+03 1.60632961e+03 2.18342328e+03\n",
      " 1.53431229e+02 1.49786446e+03 1.76760174e+03 8.82048292e+02\n",
      " 2.68000000e+02 1.77668476e+03 1.59413768e+03 1.03473795e+03\n",
      " 1.73167068e+03 1.04814755e+03 1.73309450e+03 6.82703348e+02\n",
      " 1.30312021e+03 8.70480585e+02 2.05061996e+03 2.90454233e+03\n",
      " 7.93570284e+02 2.96856177e+02 3.49738544e+02 1.61552275e+03\n",
      " 3.80686834e+03 5.52586109e+02 2.16738550e+03 1.91168561e+03\n",
      " 7.98477915e+02 1.41098290e+03 4.18401808e+03 5.83233106e+02\n",
      " 2.03667709e+03 1.55933958e+03 2.29101072e+03 1.79587930e+03\n",
      " 7.57439681e+02 8.57180000e+02 2.57853454e+03 2.17497241e+03\n",
      " 2.15275524e+03 2.15275524e+03 7.25558754e+01 9.71259050e+02\n",
      " 2.32470190e+00 1.59481872e+02 1.17797424e+03 2.48143292e+03\n",
      " 1.02232079e+03 1.71456508e+02 1.03366025e+03 1.23953517e+03\n",
      " 5.14114125e+02 4.00444583e+02 1.39140554e+03 1.39314907e+03\n",
      " 1.16231126e+03 8.94581948e+02 7.10419594e+02 2.15322884e+03\n",
      " 1.03472991e+03 1.80800797e+03 6.97962461e+02 5.61212139e+02\n",
      " 1.68697038e+03 2.78284730e+01 3.38042677e+03 1.67308537e+02\n",
      " 4.11687224e+03 1.86268623e+03 1.49145124e+03 2.30615824e+03\n",
      " 2.30615824e+03 3.55795543e+02 1.82498433e+03 2.24791080e+03\n",
      " 1.79748485e+03 3.90622356e+00 8.60265005e+02 5.25115067e+02\n",
      " 6.82417798e+02 1.16680637e+03 1.15835068e+03 2.33016816e+03\n",
      " 1.20176710e+03 4.16374542e+02 7.40914804e+02 6.68461395e+02\n",
      " 3.87265644e+02 3.12275924e+02 9.22312822e+02 8.32082597e+02\n",
      " 3.85996551e+02 4.08591785e+02 1.36897713e+03 2.33785200e+03\n",
      " 2.21364339e+03 1.82512476e+03 1.08482975e+03 9.57000000e+02\n",
      " 1.35373546e+03 1.99850119e+03 0.00000000e+00 1.76422986e+03]\n"
     ]
    },
    {
     "data": {
      "text/plain": [
       "144"
      ]
     },
     "execution_count": 14,
     "metadata": {},
     "output_type": "execute_result"
    }
   ],
   "source": [
    "Location_dictionary['Nitrogen']=[]\n",
    "for j in range(32,2185,15):\n",
    "      cell= sheet.cell(row = j, column = 5)\n",
    "      Location_dictionary['Nitrogen'].append(cell.value)\n",
    "\n",
    "N=Location_dictionary['Nitrogen']\n",
    "\n",
    "print(np.transpose(Location_dictionary['Nitrogen']))\n",
    "len(Location_dictionary['Nitrogen'])"
   ]
  },
  {
   "cell_type": "code",
   "execution_count": 15,
   "metadata": {},
   "outputs": [
    {
     "name": "stdout",
     "output_type": "stream",
     "text": [
      "[22.64       31.4        19.4        19.48134328 20.         68.43403691\n",
      " 31.7        29.9        29.8057656  22.05000003 27.4        33.4\n",
      " 28.5        36.08011113 36.1        34.8        42.4        38.4\n",
      " 24.7        29.6        15.         32.710282   21.85       20.31\n",
      " 21.09459459 22.77       19.8115606  29.3        20.26957327 37.42502987\n",
      " 38.2        38.5        23.3        33.53068494 34.6        35.\n",
      " 16.89682534 22.24       22.24       34.99       20.44       20.73007812\n",
      " 29.3        23.6        47.3        36.35       41.8        43.10008939\n",
      " 44.6        37.         29.2        38.41990084 38.40361189 38.41752081\n",
      " 31.1        38.62437726 40.30925211 38.70396958 21.92       26.\n",
      " 34.94130435 32.14       32.62820513 37.9        20.29067576 44.11907764\n",
      " 26.9        31.         30.16192967 33.3        22.01       39.28929642\n",
      " 18.29413086 31.4        24.20006729 35.7        37.86       37.1349283\n",
      " 21.37       20.87276786 19.29       19.29       39.93       36.1\n",
      " 50.33       32.64915675 28.75091533 22.2        34.79       14.7\n",
      " 29.60335196 22.6        39.95       39.50230507 30.6        34.8\n",
      " 36.         47.87619626 48.03285662 33.50722565 35.4159067  33.49672163\n",
      " 35.98413399 39.7        38.6        31.33       23.06       32.5\n",
      " 16.483952   36.4        31.8        21.57       21.57       30.83\n",
      " 36.2        20.47       19.91575342 61.25011072 33.94000177 33.5\n",
      " 33.5        19.1        19.90588235 19.76       19.76       32.65\n",
      " 32.65       33.61       33.61       46.42406131 33.4630776  32.9\n",
      " 39.26997345 40.06960862 24.1        12.1        20.6        20.94333333\n",
      " 40.8        34.1        20.64340659 20.53959732 19.4        37.2       ]\n"
     ]
    },
    {
     "data": {
      "text/plain": [
       "144"
      ]
     },
     "execution_count": 15,
     "metadata": {},
     "output_type": "execute_result"
    }
   ],
   "source": [
    "Location_dictionary['API']=[]\n",
    "for j in range(33,2185,15):\n",
    "      cell= sheet.cell(row = j, column = 5)\n",
    "      Location_dictionary['API'].append(cell.value)\n",
    "api=Location_dictionary['API']\n",
    "print(np.transpose(Location_dictionary['API']))\n",
    "len(Location_dictionary['API'])"
   ]
  },
  {
   "cell_type": "code",
   "execution_count": 16,
   "metadata": {},
   "outputs": [
    {
     "name": "stdout",
     "output_type": "stream",
     "text": [
      "Light and sweet,%d,\n",
      " Light and sour, %d \n",
      " Medium and sweet,%d,\n",
      " Medium and sour,%d,\n",
      " Heavy and sweet,%d,\n",
      " heavy and sour,%d 50 23 7 29 4 31\n",
      "sum 144\n"
     ]
    }
   ],
   "source": [
    "API_class=np.zeros(len(Location_dictionary['API']))\n",
    "j=0\n",
    "k=0\n",
    "l=0\n",
    "b=0\n",
    "v=0\n",
    "s=0\n",
    "\n",
    "for i in range (0,144):\n",
    "    if (Location_dictionary['API'][i]>32):\n",
    "        if (Location_dictionary['Sulfur'][i]<=0.5):\n",
    "            API_class[i]=1\n",
    "            j+=1\n",
    "        if (Location_dictionary['Sulfur'][i]>0.5):\n",
    "            API_class[i]=2\n",
    "            b+=1\n",
    "    if (Location_dictionary['API'][i]>22 and Location_dictionary['API'][i]<=32):\n",
    "        if (Location_dictionary['Sulfur'][i]<=0.5):\n",
    "            API_class[i]=3\n",
    "            k+=1\n",
    "        if (Location_dictionary['Sulfur'][i]>0.5):\n",
    "            API_class[i]=4\n",
    "            v+=1\n",
    "    if (Location_dictionary['API'][i]<=22):\n",
    "        if (Location_dictionary['Sulfur'][i]<=0.5):\n",
    "            API_class[i]=5\n",
    "            l+=1\n",
    "        if (Location_dictionary['Sulfur'][i]>0.5):\n",
    "            API_class[i]=6\n",
    "            s+=1\n",
    "# print(API_class)\n",
    "sum=j+b+k+v+l+s\n",
    "\n",
    "print(\"Light and sweet,%d,\\n Light and sour, %d \\n Medium and sweet,%d,\\n Medium and sour,%d,\\n Heavy and sweet,%d,\\n heavy and sour,%d\",j,b,k,v,l,s)\n",
    "\n",
    "print(\"sum\",sum)"
   ]
  },
  {
   "cell_type": "code",
   "execution_count": 17,
   "metadata": {},
   "outputs": [
    {
     "name": "stdout",
     "output_type": "stream",
     "text": [
      "[917.09239977 868.6        936.7834493  936.27874428 933.07341584\n",
      " 707.1        867.         876.7        876.7        920.6162323\n",
      " 890.         858.         884.         843.54057022 843.44046838\n",
      " 850.52004373 813.68602645 832.09745438 905.07911332 878.3\n",
      " 966.         860.8383     921.81690577 931.16805546 926.38027497\n",
      " 916.31958579 934.2354407  880.2        931.5        836.9\n",
      " 830.         831.53307353 913.26458333 856.57174938 851.05732992\n",
      " 849.42052107 952.58521993 919.47848641 919.6        849.06374257\n",
      " 930.37134724 928.59850196 880.         912.         790.67873322\n",
      " 843.1        816.5        809.61298754 803.52072686 839.8\n",
      " 881.         832.         832.00481099 832.40042846 870.5\n",
      " 831.         822.77654297 831.00090077 921.39631404 898.4\n",
      " 849.31215274 863.85127414 861.28171809 835.3        931.28660105\n",
      " 805.         893.3        870.8        874.5        859.\n",
      " 920.85611687 857.         943.69934047 869.         907.90341302\n",
      " 846.3        834.67538085 838.26       924.7113397  927.72891435\n",
      " 937.46682472 937.46682472 824.59675961 844.         777.43289061\n",
      " 861.6        882.2        921.         850.08492693 966.98602941\n",
      " 877.45301873 918.         824.50056868 826.65916368 872.0581277\n",
      " 850.03380938 843.94401493 788.06790115 787.86424419 856.69352931\n",
      " 846.89725081 856.74806808 844.1        826.         831.9\n",
      " 868.14851379 914.60030085 861.95501524 955.24292055 841.93342764\n",
      " 867.         923.50311949 923.50311949 870.82253742 843.8\n",
      " 930.18768507 933.5925708  733.90038689 854.45249632 856.73104545\n",
      " 856.73104545 938.64955179 933.65343739 934.55389726 934.55389726\n",
      " 861.16736217 861.16736217 856.16027194 856.16027194 794.49975152\n",
      " 857.         859.85780109 828.6        824.         909.4\n",
      " 985.         929.39265286 927.29947193 821.         854.\n",
      " 929.12749665 929.76188438 937.16049    838.8       ]\n"
     ]
    },
    {
     "data": {
      "text/plain": [
       "144"
      ]
     },
     "execution_count": 17,
     "metadata": {},
     "output_type": "execute_result"
    }
   ],
   "source": [
    "Location_dictionary['Density']=[]\n",
    "for j in range(34,2185,15):\n",
    "      cell= sheet.cell(row = j, column = 5)\n",
    "      Location_dictionary['Density'].append(cell.value)\n",
    "\n",
    "print(np.transpose(Location_dictionary['Density']))\n",
    "len(Location_dictionary['Density'])"
   ]
  },
  {
   "cell_type": "code",
   "execution_count": 18,
   "metadata": {},
   "outputs": [
    {
     "name": "stdout",
     "output_type": "stream",
     "text": [
      "[11.74151585 12.81432004 11.39010061 10.71895231 11.12016655 15.42606854\n",
      " 13.14206488 12.81102874 12.14071068  9.04411843 12.62276165 13.01188416\n",
      " 12.66742343 12.72138306 13.34       12.62755927 13.6        13.31737603\n",
      " 11.25974476 12.44459037 10.62207716 12.93164891 11.64986374 11.43029027\n",
      " 11.64129054 11.83012004  7.95435464 12.74005473 11.10502668 13.07926381\n",
      " 12.99665093 12.13569853 11.52731093 12.79208488 11.79116989 12.28751638\n",
      "  9.57102389 11.74042655 12.09441938 12.63066409 12.81259672 11.1922951\n",
      " 12.99506601 12.13568498 13.71818713 13.22949649 13.21425117 14.15475736\n",
      " 14.         13.22763203 12.64327842 13.15698226 10.82023246 12.43929452\n",
      " 12.62374557 12.94060841 10.61330351 12.26782971 11.78759692 13.82936855\n",
      " 12.82090896 12.62697055 12.86516103 13.44136207  8.16529509 13.30881924\n",
      " 12.15853624 12.85759909 12.52197133 13.14307215 11.77656728 12.33278382\n",
      "  8.20932876 12.89959783  8.63444727 13.17216051 12.92745412 12.3165613\n",
      " 11.74992316 11.20672442 11.37886335 11.37886335 13.10124073 13.2419885\n",
      " 13.91365316 12.74528831 12.55690893 11.83210871 12.73817906 12.85033739\n",
      " 12.09908852 11.94816962 13.07092187 13.73883101 12.28920814 12.12689936\n",
      " 13.00968661 13.26876076 12.87278978 11.44743396 12.53710409 10.90753242\n",
      " 12.97286548 13.10039567 13.28850966 12.39692329 11.66779535 12.48184684\n",
      "  9.80367322 12.12378659 12.79904128 11.58033428 11.58033428 12.47130709\n",
      " 13.09114617 11.55842862 11.24549096 14.74499425 12.14675799 12.66416044\n",
      " 13.00969903 11.16586838 11.13247494 11.6124048  11.9112943  12.5843088\n",
      " 12.57033146 12.9766476  12.65371357 12.86450124 12.85677925 12.53079914\n",
      " 13.25528229 13.30702731 12.50429257 11.05327626 11.53356398 11.23930483\n",
      " 13.45499708 12.95201389 11.54669203 11.20542568 11.55303231 13.02016701]\n"
     ]
    },
    {
     "data": {
      "text/plain": [
       "144"
      ]
     },
     "execution_count": 18,
     "metadata": {},
     "output_type": "execute_result"
    }
   ],
   "source": [
    "Location_dictionary['Hydrogen']=[]\n",
    "for j in range(35,2185,15):\n",
    "      cell= sheet.cell(row = j, column = 5)\n",
    "      Location_dictionary['Hydrogen'].append(cell.value)\n",
    "\n",
    "h=Location_dictionary['Hydrogen']\n",
    "print(np.transpose(Location_dictionary['Hydrogen']))\n",
    "len(Location_dictionary['Hydrogen'])"
   ]
  },
  {
   "cell_type": "code",
   "execution_count": 19,
   "metadata": {},
   "outputs": [
    {
     "name": "stdout",
     "output_type": "stream",
     "text": [
      "[1.05500000e+01 4.86000000e+00 1.37000000e+01 1.09007826e+01\n",
      " 8.14600000e+00 1.00000000e-03 3.60000000e+00 3.03000000e+00\n",
      " 3.20000000e+00 6.14000000e+00 6.80000000e+00 3.60000000e+00\n",
      " 5.90000000e+00 1.30000000e+00 1.40000000e+00 1.40000000e+00\n",
      " 7.00000000e-01 7.50000000e-01 9.32000000e+00 6.40000000e+00\n",
      " 5.90000000e+00 1.20000000e+00 1.02300000e+01 1.12400000e+01\n",
      " 8.57258278e+00 8.45000000e+00 6.04000000e+00 3.24000000e+00\n",
      " 8.60000000e+00 2.27000000e+00 2.04000000e+00 2.18000000e+00\n",
      " 7.70000000e+00 2.61000000e+00 1.71000000e+00 2.20000000e+00\n",
      " 8.00000000e+00 1.02200000e+01 1.05500000e+01 1.00000000e-02\n",
      " 1.04500000e+01 1.06270053e+01 3.30000000e+00 7.57000000e+00\n",
      " 2.33000000e+00 1.20000000e+00 1.70000000e+00 1.08240215e-02\n",
      " 6.50000000e-01 2.11000000e+00 6.30000000e+00 1.71000000e+00\n",
      " 1.83000000e+00 1.80000000e+00 4.62000000e+00 1.94000000e+00\n",
      " 1.55000000e+00 1.80000000e+00 9.19000000e+00 7.10000000e+00\n",
      " 3.79659091e+00 2.00000000e-02 6.04166667e-02 1.20000000e+00\n",
      " 8.00000000e+00 2.74000000e-02 5.90000000e+00 5.00000000e+00\n",
      " 6.33000000e+00 4.30000000e+00 8.42000000e+00 5.40000000e+00\n",
      " 1.04400000e+01 5.70000000e+00 1.02100000e+01 1.80000000e+00\n",
      " 2.87000000e+00 2.93000000e+00 9.25000000e+00 9.69226667e+00\n",
      " 9.99000000e+00 9.99000000e+00 2.00000000e-02 1.10000000e+00\n",
      " 0.00000000e+00 4.85000000e+00 5.78000000e+00 1.20000000e+01\n",
      " 3.56000000e+00 1.12100000e+01 5.80000000e+00 4.30000000e+00\n",
      " 1.77000000e+00 2.32000000e+00 1.19000000e+00 1.03000000e+00\n",
      " 1.22000000e+00 6.80000000e-01 7.00000000e-01 3.90000000e-01\n",
      " 1.39000000e+00 1.78000000e+00 1.43000000e+00 1.56820287e+00\n",
      " 1.50000000e+00 2.00000000e-01 9.38000000e+00 1.30000000e-01\n",
      " 7.11000000e+00 1.03000000e+00 3.90000000e+00 9.18000000e+00\n",
      " 9.18000000e+00 1.40000000e-01 2.87000000e+00 9.61000000e+00\n",
      " 9.38772727e+00 3.20414558e-04 3.52000000e+00 3.00000000e-02\n",
      " 3.00000000e-02 1.40000000e-01 5.90967742e-01 8.97000000e+00\n",
      " 8.97000000e+00 2.00000000e-02 2.00000000e-02 5.00000000e-02\n",
      " 5.00000000e-02 3.90000000e-01 4.06000000e+00 3.90000000e-01\n",
      " 1.60000000e+00 4.54000000e+00 6.00000000e+00 1.12000000e+01\n",
      " 8.77000000e+00 8.52006173e+00 1.10000000e+00 3.30000000e+00\n",
      " 8.67928000e+00 9.35852459e+00 4.90000000e+00 2.70000000e+00]\n"
     ]
    },
    {
     "data": {
      "text/plain": [
       "144"
      ]
     },
     "execution_count": 19,
     "metadata": {},
     "output_type": "execute_result"
    }
   ],
   "source": [
    "Location_dictionary['MCR']=[]\n",
    "for j in range(36,2185,15):\n",
    "      cell= sheet.cell(row = j, column = 5)\n",
    "      Location_dictionary['MCR'].append(cell.value)\n",
    "\n",
    "mcr=Location_dictionary['MCR']\n",
    "print(np.transpose(Location_dictionary['MCR']))\n",
    "len(Location_dictionary['MCR'])"
   ]
  },
  {
   "cell_type": "code",
   "execution_count": 20,
   "metadata": {},
   "outputs": [
    {
     "name": "stdout",
     "output_type": "stream",
     "text": [
      "[12.07865782 11.67046916 11.775354   11.63910626 11.48875019 14.79773985\n",
      " 12.35643647 12.09971619 12.00077964 12.37116341 12.08928738 12.10837652\n",
      " 11.99476202 12.17209444 12.50103736 12.17842901 11.8        11.98971186\n",
      " 11.56084777 11.92351201 12.03746321 11.70015349 12.00932485 11.88205051\n",
      " 11.64927344 11.77610362 12.1908176  11.77565475 11.87078944 12.13263576\n",
      " 12.16218391 12.48286239 11.45722942 12.79273421 12.19649084 12.12696721\n",
      " 11.75909745 11.98138501 11.85979659 11.62308408 11.99666362 11.78797253\n",
      " 12.02436271 12.31636317 13.23354405 11.98611683 12.33920828 11.92109357\n",
      " 12.4        12.03253313 11.86276177 12.47698082 12.83252922 12.16893958\n",
      " 12.00301845 12.07746089 12.682839   12.0831113  11.79497104 11.47145547\n",
      " 12.04532541 11.87728856 11.91310753 11.95442725 12.5666916  11.3345479\n",
      " 11.93420579 11.99563652 12.05812544 12.03595384 12.08702003 12.64064697\n",
      " 12.308132   12.21216708 12.59498327 12.07699389 11.94870583 11.98304915\n",
      " 12.01398107 11.80787228 11.79887651 11.79887651 12.05502281 11.9682644\n",
      " 12.03700862 12.14918958 12.04369009 12.07475235 12.03667422 10.82071667\n",
      " 11.90157619 12.41547562 12.18984949 12.6564124  11.22861402 11.44567532\n",
      " 11.60267025 12.88326576 12.23484245 12.49326777 12.93887153 13.29339893\n",
      " 13.49380391 12.04493965 12.18200814 11.56550223 12.02650073 11.71880076\n",
      " 10.95275251 11.95472054 12.08634085 11.86293904 11.86293904 11.92615543\n",
      " 12.01012796 11.793067   11.67232305 14.26603513 12.24472904 11.7867182\n",
      " 11.86561393 11.14424499 11.36529908 11.66804072 11.58061991 11.79288522\n",
      " 11.85802235 11.88770653 11.78919796 12.47983968 12.047864   12.26235407\n",
      " 12.22998946 13.82296102 11.83821974 11.45118263 11.74605448 11.69712967\n",
      " 12.15907801 11.99494046 11.71464624 11.73918554 12.39899794 12.0817447 ]\n"
     ]
    },
    {
     "data": {
      "text/plain": [
       "144"
      ]
     },
     "execution_count": 20,
     "metadata": {},
     "output_type": "execute_result"
    }
   ],
   "source": [
    "Location_dictionary['CF']=[]\n",
    "for j in range(37,2185,15):\n",
    "      cell= sheet.cell(row = j, column = 5)\n",
    "      Location_dictionary['CF'].append(cell.value)\n",
    "\n",
    "print(np.transpose(Location_dictionary['CF']))\n",
    "len(Location_dictionary['CF'])"
   ]
  },
  {
   "cell_type": "code",
   "execution_count": 21,
   "metadata": {},
   "outputs": [
    {
     "name": "stdout",
     "output_type": "stream",
     "text": [
      "[484.21771043 305.61       474.76287761 447.934      413.25\n",
      " 365.         410.         390.         375.         550.\n",
      " 420.         350.         390.         330.         380.\n",
      " 345.         259.         280.         365.         365.\n",
      " 600.         296.18836686 482.81423849 481.54219069 427.13670886\n",
      " 426.94541226 550.         345.         480.         310.\n",
      " 306.26       350.         365.         460.         350.\n",
      " 335.         510.         471.85168711 449.4        262.39564543\n",
      " 501.60055049 457.67391304 385.         515.         365.\n",
      " 300.         295.         227.82       262.         300.\n",
      " 360.         350.         405.         305.         360.\n",
      " 290.         360.         290.         442.07307277 335.\n",
      " 323.43055556 328.68899731 328.74722222 280.         620.\n",
      " 150.         400.         360.         380.         340.\n",
      " 495.17422204 365.         600.         390.         560.\n",
      " 320.         279.59762764 291.6        490.84558338 459.31973684\n",
      " 480.90176017 480.90176017 274.16890446 300.         183.47103319\n",
      " 365.         395.         490.         323.77247807 365.\n",
      " 361.44482759 550.         292.54113885 365.         250.\n",
      " 240.         250.         310.         225.         410.\n",
      " 460.         550.         550.         275.         305.\n",
      " 290.86030054 468.37079292 301.11821809 365.         295.\n",
      " 365.         459.51165742 459.51165742 351.01849499 305.\n",
      " 462.38530193 447.88363636 365.         365.         300.60130065\n",
      " 312.2        364.63433985 392.6        449.31753173 433.2\n",
      " 310.47564691 320.2        314.3        299.81680678 270.\n",
      " 340.         380.         305.         550.         420.\n",
      " 525.         451.76185872 437.91518987 280.         325.\n",
      " 445.3469697  451.35365854 600.         305.        ]\n"
     ]
    },
    {
     "data": {
      "text/plain": [
       "144"
      ]
     },
     "execution_count": 21,
     "metadata": {},
     "output_type": "execute_result"
    }
   ],
   "source": [
    "Location_dictionary['Tb']=[]\n",
    "for j in range(38,2185,15):\n",
    "      cell= sheet.cell(row = j, column = 5)\n",
    "      Location_dictionary['Tb'].append(cell.value)\n",
    "\n",
    "tb=Location_dictionary['Tb']\n",
    "# Location_dictionary['Tb'] = Location_dictionary['Tb'][:-1]\n",
    "print(np.transpose(Location_dictionary['Tb']))\n",
    "len(Location_dictionary['Tb'])"
   ]
  },
  {
   "cell_type": "code",
   "execution_count": 22,
   "metadata": {},
   "outputs": [],
   "source": [
    "# Location_dictionary['crude_name']=[s,N,a,h,mcr,cf,tb]\n",
    "# Location_dictionary['crude_name'][0]"
   ]
  },
  {
   "cell_type": "code",
   "execution_count": 23,
   "metadata": {},
   "outputs": [
    {
     "data": {
      "image/png": "[encoded data removed]",
      "text/plain": [
       "<Figure size 432x288 with 1 Axes>"
      ]
     },
     "metadata": {
      "needs_background": "light"
     },
     "output_type": "display_data"
    }
   ],
   "source": [
    "plt.scatter(api,sul,marker='v', label='crude_name')\n",
    "plt.xlabel('API(degrees)')\n",
    "plt.ylabel('Sulfur()')\n",
    "plt.title(\"API vs. Sulfur\")\n",
    "plt.legend(loc='upper right')\n",
    "plt.grid()"
   ]
  },
  {
   "cell_type": "code",
   "execution_count": 24,
   "metadata": {},
   "outputs": [
    {
     "data": {
      "image/png": "[encoded data removed]",
      "text/plain": [
       "<Figure size 432x288 with 1 Axes>"
      ]
     },
     "metadata": {
      "needs_background": "light"
     },
     "output_type": "display_data"
    }
   ],
   "source": [
    "cf=Location_dictionary['CF']\n",
    "plt.scatter(cf,api,marker='x', label='crude_name')\n",
    "plt.xlabel('API(degrees)')\n",
    "plt.ylabel('CF')\n",
    "plt.title(\"CF vs. API\")\n",
    "plt.legend(loc='upper right')\n",
    "plt.grid()"
   ]
  },
  {
   "cell_type": "code",
   "execution_count": 25,
   "metadata": {},
   "outputs": [
    {
     "name": "stdout",
     "output_type": "stream",
     "text": [
      "(144, 2)\n"
     ]
    },
    {
     "data": {
      "text/plain": [
       "KMeans(algorithm='auto', copy_x=True, init='k-means++', max_iter=300,\n",
       "    n_clusters=3, n_init=10, n_jobs=1, precompute_distances='auto',\n",
       "    random_state=10, tol=0.0001, verbose=0)"
      ]
     },
     "execution_count": 25,
     "metadata": {},
     "output_type": "execute_result"
    }
   ],
   "source": [
    "X_data=np.array([api,sul])\n",
    "X_data=X_data.T\n",
    "print(X_data.shape)\n",
    "\n",
    "# for n in range (1,5):\n",
    "#     start[n] = time.time()\n",
    "cl=KMeans(n_clusters=3, n_init=10, tol=0.0001, random_state=10)\n",
    "cl.fit(X_data)\n",
    "\n",
    "# user_input=np.array([[20,0.7]])\n",
    "# print(cl.predict(user_input))\n",
    "\n",
    "# calcul=np.zeros(144)\n",
    "\n",
    "# def apis(api,sul):\n",
    "#     for i in range (0,144):\n",
    "# #     if(cl.predict==1):\n",
    "#         calcul[i]=((api[i]-user_input[0,0])**2 + (sul[i]-user_input[0,1])**2)**0.5\n",
    "#     return api and sul for (calcul.min())\n",
    "\n",
    "\n",
    "# iner=cl.inertia_\n",
    "# print(iner)"
   ]
  },
  {
   "cell_type": "code",
   "execution_count": 26,
   "metadata": {},
   "outputs": [
    {
     "name": "stdout",
     "output_type": "stream",
     "text": [
      "Estimated number of clusters for API,S,N: 2\n",
      "Estimated number of noise points for API, S, N: 4\n"
     ]
    }
   ],
   "source": [
    "#DBSCAN\n",
    "\n",
    "H_db=np.zeros(10)\n",
    "C_db=np.zeros(10)\n",
    "F_db=np.zeros(10)\n",
    "Abs=np.zeros(10)\n",
    "\n",
    "X_data=np.array([api,sul,cf])\n",
    "X_data=X_data.T\n",
    "\n",
    "# for n in range (10,95):\n",
    "db = DBSCAN(eps=2.5, min_samples=3)\n",
    "db.fit(X_data)\n",
    "#     H_db[n]=metrics.homogeneity_score(X_target,db.labels_)  #Homogeneity\n",
    "#     C_db[n]=metrics.completeness_score(X_target,db.labels_)\n",
    "#     F_db[n]=metrics.fowlkes_mallows_score(X_target,db.labels_)\n",
    "\n",
    "# Number of clusters in labels, ignoring noise if present.\n",
    "labels = db.labels_\n",
    "n_clusters_ = len(set(labels)) - (1 if -1 in labels else 0)\n",
    "n_noise_ = list(labels).count(-1)\n",
    "\n",
    "print('Estimated number of clusters for API,S,N: %d' % n_clusters_)\n",
    "print('Estimated number of noise points for API, S, N: %d' % n_noise_)\n",
    "\n"
   ]
  },
  {
   "cell_type": "markdown",
   "metadata": {},
   "source": [
    "### iner\n",
    "\n",
    "# np.count(cl.labels_==0)"
   ]
  },
  {
   "cell_type": "code",
   "execution_count": 76,
   "metadata": {},
   "outputs": [],
   "source": [
    "# #PCA\n",
    "# print(__doc__)\n",
    "\n",
    "# from time import time\n",
    "# import numpy as np\n",
    "# import matplotlib.pyplot as plt\n",
    "\n",
    "# from sklearn import metrics\n",
    "# from sklearn.cluster import KMeans\n",
    "# from sklearn.datasets import load_digits\n",
    "# from sklearn.decomposition import PCA\n",
    "# from sklearn.preprocessing import scale\n",
    "\n",
    "# # np.random.seed(42)\n",
    "# data=np.array([a,tb,N,h,mcr,cf,tb])\n",
    "# data=data.T\n",
    "\n",
    "\n",
    "# # digits = load_digits()\n",
    "# # data = scale(digits.data)\n",
    "\n",
    "# n_samples, n_features = X_data.shape\n",
    "# # n_digits = len(np.unique(digits.target))`\n",
    "# # labels = digits.target\n",
    "\n",
    "# sample_size = 144\n",
    "\n",
    "# print(\"\\t n_samples %d, \\t n_features %d\"\n",
    "#       % (n_samples, n_features))\n",
    "\n",
    "\n",
    "# print(82 * '_')\n",
    "# print('init\\t\\ttime\\tinertia\\thomo\\tcompl\\tv-meas\\tARI\\tAMI\\tsilhouette')\n",
    "\n",
    "\n",
    "# def bench_k_means(estimator, name, data):\n",
    "#     t0 = time()\n",
    "#     estimator.fit(data)\n",
    "#     print('%-9s\\t%.2fs\\t%i\\t%.3f\\t%.3f\\t%.3f\\t%.3f\\t%.3f\\t%.3f'\n",
    "#           % (name, (time() - t0), estimator.inertia_,\n",
    "#              metrics.homogeneity_score(labels, estimator.labels_),\n",
    "#              metrics.completeness_score(labels, estimator.labels_),\n",
    "#              metrics.v_measure_score(labels, estimator.labels_),\n",
    "#              metrics.adjusted_rand_score(labels, estimator.labels_),\n",
    "#              metrics.adjusted_mutual_info_score(labels,  estimator.labels_,\n",
    "#                                                 average_method='arithmetic'),\n",
    "#              metrics.silhouette_score(data, estimator.labels_,\n",
    "#                                       metric='euclidean',\n",
    "#                                       sample_size=sample_size)))\n",
    "\n",
    "# bench_k_means(KMeans(init='k-means++', n_clusters=3, n_init=10),\n",
    "#               name=\"k-means++\", data=data)\n",
    "\n",
    "# bench_k_means(KMeans(init='random', n_clusters=3, n_init=10),\n",
    "#               name=\"random\", data=X_data)\n",
    "\n",
    "# # in this case the seeding of the centers is deterministic, hence we run the\n",
    "# # kmeans algorithm only once with n_init=1\n",
    "# pca = PCA(n_components=7).fit(data)\n",
    "# bench_k_means(KMeans(init=pca.components_, n_clusters=3, n_init=1),\n",
    "#               name=\"PCA-based\",\n",
    "#               data=data)\n",
    "# print(82 * '_')\n",
    "\n",
    "# # #############################################################################\n",
    "# # Visualize the results on PCA-reduced data\n",
    "\n",
    "# reduced_data = PCA(n_components=2).fit_transform(data)\n",
    "# kmeans = KMeans(init='k-means++', n_clusters=3, n_init=10)\n",
    "# kmeans.fit(reduced_data)\n",
    "\n",
    "# # Step size of the mesh. Decrease to increase the quality of the VQ.\n",
    "# h = .02     # point in the mesh [x_min, x_max]x[y_min, y_max].\n",
    "\n",
    "# # Plot the decision boundary. For that, we will assign a color to each\n",
    "# x_min, x_max = reduced_data[:, 0].min() - 1, reduced_data[:, 0].max() + 1\n",
    "# y_min, y_max = reduced_data[:, 1].min() - 1, reduced_data[:, 1].max() + 1\n",
    "# xx, yy = np.meshgrid(np.arange(x_min, x_max, h), np.arange(y_min, y_max, h))\n",
    "\n",
    "# # Obtain labels for each point in mesh. Use last trained model.\n",
    "# Z = kmeans.predict(np.c_[xx.ravel(), yy.ravel()])\n",
    "\n",
    "# # Put the result into a color plot\n",
    "# Z = Z.reshape(xx.shape)\n",
    "# plt.figure(1)\n",
    "# plt.clf()\n",
    "# plt.imshow(Z, interpolation='nearest',\n",
    "#            extent=(xx.min(), xx.max(), yy.min(), yy.max()),\n",
    "#            cmap=plt.cm.Paired,\n",
    "#            aspect='auto', origin='lower')\n",
    "\n",
    "# plt.plot(reduced_data[:, 0], reduced_data[:, 1], 'k.', markersize=2)\n",
    "# # Plot the centroids as a white X\n",
    "# centroids = kmeans.cluster_centers_\n",
    "# plt.scatter(centroids[:, 0], centroids[:, 1],\n",
    "#             marker='x', s=169, linewidths=3,\n",
    "#             color='w', zorder=10)\n",
    "# plt.title('K-means clustering on the oil assay dataset (PCA-reduced data)\\n'\n",
    "#           'Centroids are marked with white cross')\n",
    "# plt.xlim(x_min, x_max)\n",
    "# plt.ylim(y_min, y_max)\n",
    "# plt.xticks(())\n",
    "# plt.yticks(())\n",
    "# plt.show()"
   ]
  },
  {
   "cell_type": "code",
   "execution_count": 77,
   "metadata": {},
   "outputs": [],
   "source": [
    "api=np.array(Location_dictionary['API'])\n",
    "sulfur=np.array(Location_dictionary['Sulfur'])"
   ]
  },
  {
   "cell_type": "code",
   "execution_count": 78,
   "metadata": {},
   "outputs": [],
   "source": [
    "from plotly.subplots import make_subplots\n",
    "import plotly.graph_objects as go"
   ]
  },
  {
   "cell_type": "code",
   "execution_count": 79,
   "metadata": {},
   "outputs": [
    {
     "name": "stdout",
     "output_type": "stream",
     "text": [
      "81 52 11\n",
      "(133,)\n",
      "(144,)\n"
     ]
    },
    {
     "data": {
      "text/plain": [
       "<matplotlib.collections.PathCollection at 0x1ac3e7c49b0>"
      ]
     },
     "execution_count": 79,
     "metadata": {},
     "output_type": "execute_result"
    },
    {
     "data": {
      "image/png": "[encoded data removed]",
      "text/plain": [
       "<Figure size 432x288 with 1 Axes>"
      ]
     },
     "metadata": {
      "needs_background": "light"
     },
     "output_type": "display_data"
    },
    {
     "data": {
      "image/png": "[encoded data removed]",
      "text/plain": [
       "<Figure size 432x288 with 1 Axes>"
      ]
     },
     "metadata": {
      "needs_background": "light"
     },
     "output_type": "display_data"
    },
    {
     "data": {
      "image/png": "[encoded data removed]",
      "text/plain": [
       "<Figure size 432x288 with 1 Axes>"
      ]
     },
     "metadata": {
      "needs_background": "light"
     },
     "output_type": "display_data"
    }
   ],
   "source": [
    "x0=api[cl.labels_==0]\n",
    "x1=api[cl.labels_==1]\n",
    "x2=api[cl.labels_==2]\n",
    "print(len(x0),len(x1), len(x2))\n",
    "x01=np.append(x0,x1)\n",
    "print(np.shape(x01))\n",
    "\n",
    "x012=np.append(x01,x2)\n",
    "print(np.shape(x012))\n",
    "\n",
    "y0=sulfur[cl.labels_==0]\n",
    "y1=sulfur[cl.labels_==1]\n",
    "y2=sulfur[cl.labels_==2]\n",
    "\n",
    "y01=np.append(y0,y1)\n",
    "y012=np.append(y01,y2)\n",
    "\n",
    "# fig, axs = plt.subplots(2, 2)\n",
    "# axs[0, 0].scatter(x0, y0)\n",
    "# axs[0, 0].set_title('cluster0')\n",
    "# axs[0, 1].scatter(x1, y1, 'tab:orange')\n",
    "# axs[0, 1].set_title('Axis [0,1]')\n",
    "# axs[1, 0].plot(x2, y2, 'tab:green')\n",
    "# axs[1, 0].set_title('Axis [1,0]')\n",
    "\n",
    "plt.figure(1)\n",
    "plt.title(\"cluster 0\")\n",
    "plt.scatter(x0,y0)\n",
    "\n",
    "plt.figure(2)\n",
    "plt.title(\"cluster 1\")\n",
    "plt.scatter(x1,y1,color='red')\n",
    "\n",
    "plt.figure(3)\n",
    "plt.title(\"cluster 2\")\n",
    "plt.scatter(x2,y2,color='black')\n",
    "\n",
    "\n",
    "# fig = make_subplots(rows=1, cols=3)\n",
    "\n",
    "# fig.add_trace(go.Scatter(x0, y0,row=1, col=1)\n",
    "\n",
    "# fig.add_trace(go.Scatter(x1, y1,row=1, col=2)\n",
    "              \n",
    "# fig.add_trace(go.Scatter(x2, y2,row=1, col=3)              \n",
    "\n",
    "# fig.update_layout(height=600, width=800, title_text=\"Subplots\")\n",
    "# fig.show()\n"
   ]
  },
  {
   "cell_type": "code",
   "execution_count": 82,
   "metadata": {},
   "outputs": [
    {
     "data": {
      "text/plain": [
       "array([-0.86751704, -4.7601552 ])"
      ]
     },
     "execution_count": 82,
     "metadata": {},
     "output_type": "execute_result"
    }
   ],
   "source": [
    "grid.cv_results_['mean_test_score']"
   ]
  },
  {
   "cell_type": "code",
   "execution_count": 80,
   "metadata": {},
   "outputs": [
    {
     "name": "stdout",
     "output_type": "stream",
     "text": [
      "(133, 1)\n",
      "(133, 1)\n",
      "3.1295761511292404\n",
      "{'fit_intercept': True}\n"
     ]
    },
    {
     "name": "stderr",
     "output_type": "stream",
     "text": [
      "C:\\ProgramData\\Anaconda3\\lib\\site-packages\\sklearn\\model_selection\\_search.py:841: DeprecationWarning:\n",
      "\n",
      "The default of the `iid` parameter will change from True to False in version 0.22 and will be removed in 0.24. This will change numeric results when test-set sizes are unequal.\n",
      "\n"
     ]
    },
    {
     "data": {
      "image/png": "[encoded data removed]",
      "text/plain": [
       "<Figure size 432x288 with 1 Axes>"
      ]
     },
     "metadata": {
      "needs_background": "light"
     },
     "output_type": "display_data"
    }
   ],
   "source": [
    "x_r=np.array([x01]).T\n",
    "print(x_r.shape)\n",
    "y_r=np.array([y01]).T\n",
    "print(y_r.shape)\n",
    "\n",
    "reg = LinearRegression(fit_intercept=False)\n",
    "reg.fit(x_r,y_r)\n",
    "ypred = reg.predict(x_r)\n",
    "m=mean_squared_error(ypred,y_r)\n",
    "print(m)\n",
    "\n",
    "model = linear_model.LinearRegression()\n",
    "parameters = {'fit_intercept':[True,False]}\n",
    "grid = GridSearchCV(model,parameters, cv=5)\n",
    "grid.fit(x_r, y_r)\n",
    "\n",
    "print(grid.best_params_)\n",
    "\n",
    "plt.scatter(x01,y01)\n",
    "plt.xlabel('API(degrees)')\n",
    "plt.ylabel('Sulfur()')\n",
    "plt.title('API vs. Sulfur')\n",
    "\n",
    "plt.plot(x01,ypred)\n",
    "plt.grid()\n",
    "# plt.scatter(x_r,ypred,color='b',label='Linear')\n",
    "\n",
    "# x_2=x_r**2\n",
    "# ones=np.ones(len(x_r))\n",
    "\n",
    "# x2=(x_2,x_r,ones)\n",
    "\n",
    "# reg_2=LinearRegression(fit_intercept=False)\n",
    "# reg_2.fit(x2,y_r)\n",
    "# ypred = reg_2.predict(x2)\n",
    "# m=mean_squared_error(ypred,y_r)*144\n",
    "# print(m_2)\n",
    "\n",
    "# A=np.dot(np.linalg.inv(np.dot(x2,np.transpose(x2))),np.dot(x2,np.transpose(y_r)))\n",
    "\n",
    "# Y_est=np.dot(A,x2)\n",
    "\n",
    "# np.sum((y_r-Y_est)**2)"
   ]
  },
  {
   "cell_type": "code",
   "execution_count": 81,
   "metadata": {},
   "outputs": [
    {
     "data": {
      "text/plain": [
       "Text(0.5, 1.0, 'API vs. Sulfur')"
      ]
     },
     "execution_count": 81,
     "metadata": {},
     "output_type": "execute_result"
    },
    {
     "data": {
      "image/png": "[encoded data removed]",
      "text/plain": [
       "<Figure size 432x288 with 1 Axes>"
      ]
     },
     "metadata": {
      "needs_background": "light"
     },
     "output_type": "display_data"
    }
   ],
   "source": [
    "x=Location_dictionary['API']\n",
    "# print(np.shape(x))\n",
    "y=Location_dictionary['Sulfur']\n",
    "plt.figure(1)\n",
    "plt.scatter(x,y,marker='v', label='crude_name',c=cl.labels_, cmap='rainbow')\n",
    "plt.scatter(cl.cluster_centers_[:,0],cl.cluster_centers_[:,1], c='black')\n",
    "plt.xlabel('API(degrees)')\n",
    "plt.ylabel('Sulfur()')\n",
    "plt.title('API vs. Sulfur')\n",
    "plt.legend(loc='upper right')\n",
    "\n",
    "\n",
    "# print(np.shape(x))​plt.xlabel('API(degrees)')\n",
    "plt.ylabel('Sulfur()')\n",
    "plt.title('API vs. Sulfur')\n",
    "# plt.figure(2)\n",
    "# x=[]\n",
    "# for i in range(0,145):\n",
    "#     if (cl.labels_[i]==0):\n",
    "# #       plt.figure(2)\n",
    "#         plt.scatter (x[i],y[i])        \n",
    "#         a[j].append(x,y)\n",
    "#         j+=1\n",
    "# #     i=0\n",
    "#     if (cl.labels_[i]==1):\n",
    "#         plt.figure(3)\n",
    "#         plt.scatter (x[i],y[i]\n",
    "#         b=b+1             \n",
    "#     i=0\n",
    "#     if (cl.labels_[i]==2):\n",
    "#         plt.figure(3)\n",
    "#         plt.scatter (x[i],y[i]\n",
    "# a           "
   ]
  },
  {
   "cell_type": "code",
   "execution_count": 34,
   "metadata": {},
   "outputs": [
    {
     "data": {
      "text/plain": [
       "array([[34.74973517,  0.68534936],\n",
       "       [20.88622196,  2.90466448],\n",
       "       [49.44240262,  0.14218571]])"
      ]
     },
     "execution_count": 34,
     "metadata": {},
     "output_type": "execute_result"
    }
   ],
   "source": [
    "cl.cluster_centers_"
   ]
  },
  {
   "cell_type": "code",
   "execution_count": 35,
   "metadata": {},
   "outputs": [
    {
     "data": {
      "text/plain": [
       "(7, 144)"
      ]
     },
     "execution_count": 35,
     "metadata": {},
     "output_type": "execute_result"
    }
   ],
   "source": [
    "X_all=np.array([N,h,api,sul,tb,cf,mcr])\n",
    "X_all.shape\n",
    "# API_class.shape,h,m,tb,cf"
   ]
  },
  {
   "cell_type": "code",
   "execution_count": 36,
   "metadata": {},
   "outputs": [
    {
     "data": {
      "image/png": "[encoded data removed]",
      "text/plain": [
       "<IPython.core.display.Image object>"
      ]
     },
     "execution_count": 36,
     "metadata": {},
     "output_type": "execute_result"
    }
   ],
   "source": [
    "#Decission Tree\n",
    "\n",
    "X_all=np.array([sul,N,h,mcr,tb,cf,api]).T\n",
    "\n",
    "# We Create an instance of Neighbors Classifier and fit the data\n",
    "\n",
    "cltree=DecisionTreeClassifier(splitter='best', max_depth=3, min_impurity_decrease=0.01)\n",
    "\n",
    "#Train the model\n",
    "model =cltree.fit(X_all,API_class)\n",
    "\n",
    "feature_names=np.array(['Sulfur', 'N', 'hydrogen', 'MCR', 'Tb ', 'charac factor', 'API'])\n",
    "class_names=np.array(['1','2','3','4','5','6'])\n",
    "\n",
    "dot_data=tree.export_graphviz(cltree, out_file=None,feature_names=feature_names, class_names= class_names)\n",
    "\n",
    "# Draw Graph\n",
    "graph= pydotplus.graph_from_dot_data(dot_data)\n",
    "\n",
    "# Show Graph\n",
    "Image(graph.create_png())\n"
   ]
  },
  {
   "cell_type": "code",
   "execution_count": 34,
   "metadata": {},
   "outputs": [
    {
     "data": {
      "image/png": "[encoded data removed]",
      "text/plain": [
       "<Figure size 216x216 with 1 Axes>"
      ]
     },
     "metadata": {
      "needs_background": "light"
     },
     "output_type": "display_data"
    },
    {
     "data": {
      "image/png": "[encoded data removed]",
      "text/plain": [
       "<Figure size 216x216 with 1 Axes>"
      ]
     },
     "metadata": {
      "needs_background": "light"
     },
     "output_type": "display_data"
    }
   ],
   "source": [
    "x=Location_dictionary['API']\n",
    "y=Location_dictionary['Sulfur']\n",
    "X_data=np.array([x,y,tb]).T\n",
    "X=X_data\n",
    "estimators = [('k_means_iris_4', KMeans(n_clusters=4)),\n",
    "              ('k_means_iris_3', KMeans(n_clusters=3))]\n",
    "\n",
    "fignum = 1\n",
    "titles = ['4 clusters', '3 clusters']\n",
    "for name, est in estimators:\n",
    "    fig = plt.figure(fignum, figsize=(3, 3))\n",
    "    ax = Axes3D(fig, rect=[0, 0, .95, 1], elev=48, azim=134)\n",
    "    est.fit(X)\n",
    "    labels = est.labels_\n",
    "\n",
    "    ax.scatter(X[:, 0], X[:, 1], X[:, 2],c=labels.astype(np.float), edgecolor='k')\n",
    "\n",
    "    ax.w_xaxis.set_ticklabels([])\n",
    "    ax.w_yaxis.set_ticklabels([])\n",
    "    ax.w_zaxis.set_ticklabels([])\n",
    "    ax.set_xlabel('API')\n",
    "    ax.set_ylabel('Sulfur')\n",
    "    ax.set_zlabel('tb')\n",
    "    ax.set_title(titles[fignum - 1])\n",
    "    ax.dist = 12\n",
    "    fignum = fignum + 1"
   ]
  }
 ],
 "metadata": {
  "kernelspec": {
   "display_name": "Python 3",
   "language": "python",
   "name": "python3"
  },
  "language_info": {
   "codemirror_mode": {
    "name": "ipython",
    "version": 3
   },
   "file_extension": ".py",
   "mimetype": "text/x-python",
   "name": "python",
   "nbconvert_exporter": "python",
   "pygments_lexer": "ipython3",
   "version": "3.7.3"
  }
 },
 "nbformat": 4,
 "nbformat_minor": 2
}
